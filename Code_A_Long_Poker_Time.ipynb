{
  "nbformat": 4,
  "nbformat_minor": 0,
  "metadata": {
    "colab": {
      "provenance": [],
      "collapsed_sections": [],
      "include_colab_link": true
    },
    "kernelspec": {
      "name": "python3",
      "display_name": "Python 3"
    },
    "language_info": {
      "name": "python"
    }
  },
  "cells": [
    {
      "cell_type": "markdown",
      "metadata": {
        "id": "view-in-github",
        "colab_type": "text"
      },
      "source": [
        "<a href=\"https://colab.research.google.com/github/CraigHarriman/my-example-repo/blob/main/Code_A_Long_Poker_Time.ipynb\" target=\"_parent\"><img src=\"https://colab.research.google.com/assets/colab-badge.svg\" alt=\"Open In Colab\"/></a>"
      ]
    },
    {
      "cell_type": "markdown",
      "source": [
        "# Building a Poker Game\n",
        "\n",
        "### What do we need?\n",
        "  - a deck of cards\n",
        "  - two players\n",
        "\n",
        "### How does the game flow?\n",
        "  - Dealer gives each player 5 cards\n",
        "  - Player 1 looks at cards and decides what to keep.\n",
        "    - If player 1 returns some cards, they get dealt new ones.\n",
        "  - Player 2 look\n",
        "    - If player 2 returns some cards, they get dealt new ones.\n",
        "  - Compare to see who wins.\n",
        "\n",
        "### How do you know who wins?\n",
        " 1. Royal Flush\n",
        " 2. Straigh Flush\n",
        " 3. Four of a Kind\n",
        " 4. Full House\n",
        " 5. Flush\n",
        " 6. Straight\n",
        " 7. Three of a Kind\n",
        " 8. Two pair\n",
        " 9. One pair\n",
        " 10. High Card"
      ],
      "metadata": {
        "id": "oyyKXbdA_L7c"
      }
    },
    {
      "cell_type": "markdown",
      "source": [
        "# Aight. Let's make a deck."
      ],
      "metadata": {
        "id": "GAOOPAmLJdIl"
      }
    }
  ]
}